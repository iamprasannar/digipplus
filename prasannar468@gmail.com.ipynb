{
 "cells": [
  {
   "cell_type": "markdown",
   "id": "55faffcb",
   "metadata": {},
   "source": [
    "# Approach and Assumptions"
   ]
  },
  {
   "cell_type": "markdown",
   "id": "5c8bacee",
   "metadata": {},
   "source": [
    "* As this is the first round of filtering the candidates for an interships, I mainly concentrated on reduing the number of candidates to be selected for next round\n",
    "* Firstly I removed the columns having null values >50%. Because no analysis or conclusion can be drawn from a column which has >50% of values missing\n",
    "* Calculated the average of each skill(Python,ML,DL,NLP) of the applied candidates\n",
    "* Filtered the candidates having skills less than average among the applied candidates\n",
    "* As the internship requires 3 months of availability, removed the candidates who wouldn't be available for complete 3 months\n",
    "* Finally, the list of candidates reduced from 1136 to 200 for next round(filtered 82% of candidates)\n",
    "########################################################################################################################\n",
    "* Performed EDA analysis\n",
    "* Did not build any ML model as there is no training data available\n",
    "* Assuming the output would have either been 'selected' or 'not-selected'(1 or 0), building a classification ML model(Logistic Regression) would have served the purpose"
   ]
  },
  {
   "cell_type": "markdown",
   "id": "3ef2b071",
   "metadata": {},
   "source": [
    "# Importing necessary libraries"
   ]
  },
  {
   "cell_type": "code",
   "execution_count": 1,
   "id": "59613c85",
   "metadata": {},
   "outputs": [],
   "source": [
    "import numpy as np\n",
    "import pandas as pd\n",
    "\n",
    "import matplotlib.pyplot as plt\n",
    "import seaborn as sns\n",
    "\n",
    "import warnings\n",
    "warnings.filterwarnings(action=\"ignore\")\n"
   ]
  },
  {
   "cell_type": "markdown",
   "id": "d0c9421e",
   "metadata": {},
   "source": [
    "# Reading the given excel file"
   ]
  },
  {
   "cell_type": "code",
   "execution_count": 2,
   "id": "c91a9049",
   "metadata": {},
   "outputs": [
    {
     "data": {
      "text/html": [
       "<div>\n",
       "<style scoped>\n",
       "    .dataframe tbody tr th:only-of-type {\n",
       "        vertical-align: middle;\n",
       "    }\n",
       "\n",
       "    .dataframe tbody tr th {\n",
       "        vertical-align: top;\n",
       "    }\n",
       "\n",
       "    .dataframe thead th {\n",
       "        text-align: right;\n",
       "    }\n",
       "</style>\n",
       "<table border=\"1\" class=\"dataframe\">\n",
       "  <thead>\n",
       "    <tr style=\"text-align: right;\">\n",
       "      <th></th>\n",
       "      <th>Name</th>\n",
       "      <th>Python (out of 3)</th>\n",
       "      <th>Machine Learning (out of 3)</th>\n",
       "      <th>Natural Language Processing (NLP) (out of 3)</th>\n",
       "      <th>Deep Learning (out of 3)</th>\n",
       "      <th>Other skills</th>\n",
       "      <th>Are you available for 3 months, starting immediately, for a full-time work from home internship?</th>\n",
       "      <th>Degree</th>\n",
       "      <th>Stream</th>\n",
       "      <th>Current Year Of Graduation</th>\n",
       "      <th>Performance_PG</th>\n",
       "      <th>Performance_UG</th>\n",
       "      <th>Performance_12</th>\n",
       "      <th>Performance_10</th>\n",
       "    </tr>\n",
       "  </thead>\n",
       "  <tbody>\n",
       "    <tr>\n",
       "      <th>0</th>\n",
       "      <td>NaN</td>\n",
       "      <td>1</td>\n",
       "      <td>0</td>\n",
       "      <td>0</td>\n",
       "      <td>1</td>\n",
       "      <td>MS-Excel, MS-Word, Deep Learning, MySQL, Pytho...</td>\n",
       "      <td>Yes, I am available for 3 months starting imme...</td>\n",
       "      <td>Bachelor of Vocation (B.Voc.)</td>\n",
       "      <td>Software Engineering</td>\n",
       "      <td>2021</td>\n",
       "      <td>NaN</td>\n",
       "      <td>6.50/7</td>\n",
       "      <td>NaN</td>\n",
       "      <td>NaN</td>\n",
       "    </tr>\n",
       "    <tr>\n",
       "      <th>1</th>\n",
       "      <td>NaN</td>\n",
       "      <td>2</td>\n",
       "      <td>0</td>\n",
       "      <td>0</td>\n",
       "      <td>0</td>\n",
       "      <td>Git, GitHub, Linux, Adobe After Effects, Adobe...</td>\n",
       "      <td>Yes, I am available for 3 months starting imme...</td>\n",
       "      <td>B.Tech</td>\n",
       "      <td>Computer Science &amp; Engineering</td>\n",
       "      <td>2024</td>\n",
       "      <td>NaN</td>\n",
       "      <td>8.90/10</td>\n",
       "      <td>NaN</td>\n",
       "      <td>NaN</td>\n",
       "    </tr>\n",
       "    <tr>\n",
       "      <th>2</th>\n",
       "      <td>NaN</td>\n",
       "      <td>2</td>\n",
       "      <td>2</td>\n",
       "      <td>0</td>\n",
       "      <td>0</td>\n",
       "      <td>Amazon Web Services (AWS), Docker, Hadoop, MS-...</td>\n",
       "      <td>Yes, I am available for 3 months starting imme...</td>\n",
       "      <td>Master of Science (M.S.)</td>\n",
       "      <td>Data Science And Analytics</td>\n",
       "      <td>2022</td>\n",
       "      <td>NaN</td>\n",
       "      <td>NaN</td>\n",
       "      <td>NaN</td>\n",
       "      <td>NaN</td>\n",
       "    </tr>\n",
       "    <tr>\n",
       "      <th>3</th>\n",
       "      <td>NaN</td>\n",
       "      <td>3</td>\n",
       "      <td>2</td>\n",
       "      <td>2</td>\n",
       "      <td>0</td>\n",
       "      <td>Adobe XD, BIG DATA ANALYTICS, Canva, Data Anal...</td>\n",
       "      <td>Yes, I am available for 3 months starting imme...</td>\n",
       "      <td>Bachelor of Engineering (B.E)</td>\n",
       "      <td>NaN</td>\n",
       "      <td>2024</td>\n",
       "      <td>NaN</td>\n",
       "      <td>NaN</td>\n",
       "      <td>85.60/85.60</td>\n",
       "      <td>10.00/10.00</td>\n",
       "    </tr>\n",
       "    <tr>\n",
       "      <th>4</th>\n",
       "      <td>NaN</td>\n",
       "      <td>2</td>\n",
       "      <td>2</td>\n",
       "      <td>0</td>\n",
       "      <td>0</td>\n",
       "      <td>C++ Programming, Data Science, Machine Learnin...</td>\n",
       "      <td>Yes, I am available for 3 months starting imme...</td>\n",
       "      <td>B.Tech</td>\n",
       "      <td>Computer Science</td>\n",
       "      <td>2023</td>\n",
       "      <td>NaN</td>\n",
       "      <td>8.10/10</td>\n",
       "      <td>93.40/93.40</td>\n",
       "      <td>10.00/10.00</td>\n",
       "    </tr>\n",
       "    <tr>\n",
       "      <th>...</th>\n",
       "      <td>...</td>\n",
       "      <td>...</td>\n",
       "      <td>...</td>\n",
       "      <td>...</td>\n",
       "      <td>...</td>\n",
       "      <td>...</td>\n",
       "      <td>...</td>\n",
       "      <td>...</td>\n",
       "      <td>...</td>\n",
       "      <td>...</td>\n",
       "      <td>...</td>\n",
       "      <td>...</td>\n",
       "      <td>...</td>\n",
       "      <td>...</td>\n",
       "    </tr>\n",
       "    <tr>\n",
       "      <th>1131</th>\n",
       "      <td>NaN</td>\n",
       "      <td>2</td>\n",
       "      <td>2</td>\n",
       "      <td>0</td>\n",
       "      <td>2</td>\n",
       "      <td>Data Analytics, Amazon Web Services (AWS), Dat...</td>\n",
       "      <td>Yes, I am available for 3 months starting imme...</td>\n",
       "      <td>B.Tech</td>\n",
       "      <td>Mechanical Engineering</td>\n",
       "      <td>2021</td>\n",
       "      <td>NaN</td>\n",
       "      <td>NaN</td>\n",
       "      <td>NaN</td>\n",
       "      <td>NaN</td>\n",
       "    </tr>\n",
       "    <tr>\n",
       "      <th>1132</th>\n",
       "      <td>NaN</td>\n",
       "      <td>3</td>\n",
       "      <td>3</td>\n",
       "      <td>2</td>\n",
       "      <td>3</td>\n",
       "      <td>Deep Learning, Docker, HTML, MS-Office, Machin...</td>\n",
       "      <td>Yes, I am available for 3 months starting imme...</td>\n",
       "      <td>B.Tech</td>\n",
       "      <td>Computer Science &amp; Engineering</td>\n",
       "      <td>2024</td>\n",
       "      <td>NaN</td>\n",
       "      <td>NaN</td>\n",
       "      <td>NaN</td>\n",
       "      <td>NaN</td>\n",
       "    </tr>\n",
       "    <tr>\n",
       "      <th>1133</th>\n",
       "      <td>NaN</td>\n",
       "      <td>3</td>\n",
       "      <td>1</td>\n",
       "      <td>3</td>\n",
       "      <td>3</td>\n",
       "      <td>Data Science, Deep Learning, English Proficien...</td>\n",
       "      <td>Yes, I am available for 3 months starting imme...</td>\n",
       "      <td>B.Tech</td>\n",
       "      <td>Electronics and Communication</td>\n",
       "      <td>2025</td>\n",
       "      <td>NaN</td>\n",
       "      <td>8.77/10</td>\n",
       "      <td>9.40/9.40</td>\n",
       "      <td>NaN</td>\n",
       "    </tr>\n",
       "    <tr>\n",
       "      <th>1134</th>\n",
       "      <td>NaN</td>\n",
       "      <td>2</td>\n",
       "      <td>1</td>\n",
       "      <td>0</td>\n",
       "      <td>0</td>\n",
       "      <td>Python, Data Analytics, MS-Excel, Machine Lear...</td>\n",
       "      <td>Yes, I am available for 3 months starting imme...</td>\n",
       "      <td>B.Tech</td>\n",
       "      <td>Computer Science</td>\n",
       "      <td>2024</td>\n",
       "      <td>NaN</td>\n",
       "      <td>7.90/10</td>\n",
       "      <td>90.00/90.00</td>\n",
       "      <td>NaN</td>\n",
       "    </tr>\n",
       "    <tr>\n",
       "      <th>1135</th>\n",
       "      <td>NaN</td>\n",
       "      <td>2</td>\n",
       "      <td>0</td>\n",
       "      <td>0</td>\n",
       "      <td>0</td>\n",
       "      <td>C++ Programming, Database Management System (D...</td>\n",
       "      <td>Yes, I am available for 3 months starting imme...</td>\n",
       "      <td>B.Tech</td>\n",
       "      <td>Engineering</td>\n",
       "      <td>2024</td>\n",
       "      <td>NaN</td>\n",
       "      <td>NaN</td>\n",
       "      <td>NaN</td>\n",
       "      <td>NaN</td>\n",
       "    </tr>\n",
       "  </tbody>\n",
       "</table>\n",
       "<p>1136 rows × 14 columns</p>\n",
       "</div>"
      ],
      "text/plain": [
       "      Name  Python (out of 3)  Machine Learning (out of 3)  \\\n",
       "0      NaN                  1                            0   \n",
       "1      NaN                  2                            0   \n",
       "2      NaN                  2                            2   \n",
       "3      NaN                  3                            2   \n",
       "4      NaN                  2                            2   \n",
       "...    ...                ...                          ...   \n",
       "1131   NaN                  2                            2   \n",
       "1132   NaN                  3                            3   \n",
       "1133   NaN                  3                            1   \n",
       "1134   NaN                  2                            1   \n",
       "1135   NaN                  2                            0   \n",
       "\n",
       "      Natural Language Processing (NLP) (out of 3)  Deep Learning (out of 3)  \\\n",
       "0                                                0                         1   \n",
       "1                                                0                         0   \n",
       "2                                                0                         0   \n",
       "3                                                2                         0   \n",
       "4                                                0                         0   \n",
       "...                                            ...                       ...   \n",
       "1131                                             0                         2   \n",
       "1132                                             2                         3   \n",
       "1133                                             3                         3   \n",
       "1134                                             0                         0   \n",
       "1135                                             0                         0   \n",
       "\n",
       "                                           Other skills  \\\n",
       "0     MS-Excel, MS-Word, Deep Learning, MySQL, Pytho...   \n",
       "1     Git, GitHub, Linux, Adobe After Effects, Adobe...   \n",
       "2     Amazon Web Services (AWS), Docker, Hadoop, MS-...   \n",
       "3     Adobe XD, BIG DATA ANALYTICS, Canva, Data Anal...   \n",
       "4     C++ Programming, Data Science, Machine Learnin...   \n",
       "...                                                 ...   \n",
       "1131  Data Analytics, Amazon Web Services (AWS), Dat...   \n",
       "1132  Deep Learning, Docker, HTML, MS-Office, Machin...   \n",
       "1133  Data Science, Deep Learning, English Proficien...   \n",
       "1134  Python, Data Analytics, MS-Excel, Machine Lear...   \n",
       "1135  C++ Programming, Database Management System (D...   \n",
       "\n",
       "     Are you available for 3 months, starting immediately, for a full-time work from home internship?   \\\n",
       "0     Yes, I am available for 3 months starting imme...                                                  \n",
       "1     Yes, I am available for 3 months starting imme...                                                  \n",
       "2     Yes, I am available for 3 months starting imme...                                                  \n",
       "3     Yes, I am available for 3 months starting imme...                                                  \n",
       "4     Yes, I am available for 3 months starting imme...                                                  \n",
       "...                                                 ...                                                  \n",
       "1131  Yes, I am available for 3 months starting imme...                                                  \n",
       "1132  Yes, I am available for 3 months starting imme...                                                  \n",
       "1133  Yes, I am available for 3 months starting imme...                                                  \n",
       "1134  Yes, I am available for 3 months starting imme...                                                  \n",
       "1135  Yes, I am available for 3 months starting imme...                                                  \n",
       "\n",
       "                             Degree                          Stream  \\\n",
       "0     Bachelor of Vocation (B.Voc.)            Software Engineering   \n",
       "1                            B.Tech  Computer Science & Engineering   \n",
       "2          Master of Science (M.S.)      Data Science And Analytics   \n",
       "3     Bachelor of Engineering (B.E)                             NaN   \n",
       "4                            B.Tech                Computer Science   \n",
       "...                             ...                             ...   \n",
       "1131                         B.Tech          Mechanical Engineering   \n",
       "1132                         B.Tech  Computer Science & Engineering   \n",
       "1133                         B.Tech   Electronics and Communication   \n",
       "1134                         B.Tech                Computer Science   \n",
       "1135                         B.Tech                     Engineering   \n",
       "\n",
       "      Current Year Of Graduation Performance_PG Performance_UG Performance_12  \\\n",
       "0                           2021            NaN         6.50/7            NaN   \n",
       "1                           2024            NaN        8.90/10            NaN   \n",
       "2                           2022            NaN            NaN            NaN   \n",
       "3                           2024            NaN            NaN    85.60/85.60   \n",
       "4                           2023            NaN        8.10/10    93.40/93.40   \n",
       "...                          ...            ...            ...            ...   \n",
       "1131                        2021            NaN            NaN            NaN   \n",
       "1132                        2024            NaN            NaN            NaN   \n",
       "1133                        2025            NaN        8.77/10      9.40/9.40   \n",
       "1134                        2024            NaN        7.90/10    90.00/90.00   \n",
       "1135                        2024            NaN            NaN            NaN   \n",
       "\n",
       "     Performance_10  \n",
       "0               NaN  \n",
       "1               NaN  \n",
       "2               NaN  \n",
       "3       10.00/10.00  \n",
       "4       10.00/10.00  \n",
       "...             ...  \n",
       "1131            NaN  \n",
       "1132            NaN  \n",
       "1133            NaN  \n",
       "1134            NaN  \n",
       "1135            NaN  \n",
       "\n",
       "[1136 rows x 14 columns]"
      ]
     },
     "execution_count": 2,
     "metadata": {},
     "output_type": "execute_result"
    }
   ],
   "source": [
    "df = pd.read_excel(\"Applications_for_Machine_Learning_internship_edited.xlsx\")\n",
    "df"
   ]
  },
  {
   "cell_type": "code",
   "execution_count": 3,
   "id": "697c0b0e",
   "metadata": {},
   "outputs": [
    {
     "data": {
      "text/plain": [
       "Name                                                                                                 100.000000\n",
       "Python (out of 3)                                                                                      0.000000\n",
       "Machine Learning (out of 3)                                                                            0.000000\n",
       "Natural Language Processing (NLP) (out of 3)                                                           0.000000\n",
       "Deep Learning (out of 3)                                                                               0.000000\n",
       "Other skills                                                                                           5.809859\n",
       "Are you available for 3 months, starting immediately, for a full-time work from home internship?       0.000000\n",
       "Degree                                                                                                 3.785211\n",
       "Stream                                                                                                14.964789\n",
       "Current Year Of Graduation                                                                             0.000000\n",
       "Performance_PG                                                                                        83.802817\n",
       "Performance_UG                                                                                        57.570423\n",
       "Performance_12                                                                                        56.602113\n",
       "Performance_10                                                                                        62.411972\n",
       "dtype: float64"
      ]
     },
     "execution_count": 3,
     "metadata": {},
     "output_type": "execute_result"
    }
   ],
   "source": [
    "#Checking for null values\n",
    "100*df.isnull().mean()"
   ]
  },
  {
   "cell_type": "code",
   "execution_count": 4,
   "id": "6e7433db",
   "metadata": {},
   "outputs": [],
   "source": [
    "# selecting columns having null values > 50%\n",
    "# Including the 'Name' column also as it is completely empty, this may not be the case in all scenarios\n",
    "cols=['Name','Performance_PG','Performance_UG','Performance_12','Performance_10']"
   ]
  },
  {
   "cell_type": "code",
   "execution_count": 5,
   "id": "e4389ff5",
   "metadata": {},
   "outputs": [
    {
     "data": {
      "text/html": [
       "<div>\n",
       "<style scoped>\n",
       "    .dataframe tbody tr th:only-of-type {\n",
       "        vertical-align: middle;\n",
       "    }\n",
       "\n",
       "    .dataframe tbody tr th {\n",
       "        vertical-align: top;\n",
       "    }\n",
       "\n",
       "    .dataframe thead th {\n",
       "        text-align: right;\n",
       "    }\n",
       "</style>\n",
       "<table border=\"1\" class=\"dataframe\">\n",
       "  <thead>\n",
       "    <tr style=\"text-align: right;\">\n",
       "      <th></th>\n",
       "      <th>Python (out of 3)</th>\n",
       "      <th>Machine Learning (out of 3)</th>\n",
       "      <th>Natural Language Processing (NLP) (out of 3)</th>\n",
       "      <th>Deep Learning (out of 3)</th>\n",
       "      <th>Other skills</th>\n",
       "      <th>Are you available for 3 months, starting immediately, for a full-time work from home internship?</th>\n",
       "      <th>Degree</th>\n",
       "      <th>Stream</th>\n",
       "      <th>Current Year Of Graduation</th>\n",
       "    </tr>\n",
       "  </thead>\n",
       "  <tbody>\n",
       "    <tr>\n",
       "      <th>0</th>\n",
       "      <td>1</td>\n",
       "      <td>0</td>\n",
       "      <td>0</td>\n",
       "      <td>1</td>\n",
       "      <td>MS-Excel, MS-Word, Deep Learning, MySQL, Pytho...</td>\n",
       "      <td>Yes, I am available for 3 months starting imme...</td>\n",
       "      <td>Bachelor of Vocation (B.Voc.)</td>\n",
       "      <td>Software Engineering</td>\n",
       "      <td>2021</td>\n",
       "    </tr>\n",
       "    <tr>\n",
       "      <th>1</th>\n",
       "      <td>2</td>\n",
       "      <td>0</td>\n",
       "      <td>0</td>\n",
       "      <td>0</td>\n",
       "      <td>Git, GitHub, Linux, Adobe After Effects, Adobe...</td>\n",
       "      <td>Yes, I am available for 3 months starting imme...</td>\n",
       "      <td>B.Tech</td>\n",
       "      <td>Computer Science &amp; Engineering</td>\n",
       "      <td>2024</td>\n",
       "    </tr>\n",
       "    <tr>\n",
       "      <th>2</th>\n",
       "      <td>2</td>\n",
       "      <td>2</td>\n",
       "      <td>0</td>\n",
       "      <td>0</td>\n",
       "      <td>Amazon Web Services (AWS), Docker, Hadoop, MS-...</td>\n",
       "      <td>Yes, I am available for 3 months starting imme...</td>\n",
       "      <td>Master of Science (M.S.)</td>\n",
       "      <td>Data Science And Analytics</td>\n",
       "      <td>2022</td>\n",
       "    </tr>\n",
       "    <tr>\n",
       "      <th>3</th>\n",
       "      <td>3</td>\n",
       "      <td>2</td>\n",
       "      <td>2</td>\n",
       "      <td>0</td>\n",
       "      <td>Adobe XD, BIG DATA ANALYTICS, Canva, Data Anal...</td>\n",
       "      <td>Yes, I am available for 3 months starting imme...</td>\n",
       "      <td>Bachelor of Engineering (B.E)</td>\n",
       "      <td>NaN</td>\n",
       "      <td>2024</td>\n",
       "    </tr>\n",
       "    <tr>\n",
       "      <th>4</th>\n",
       "      <td>2</td>\n",
       "      <td>2</td>\n",
       "      <td>0</td>\n",
       "      <td>0</td>\n",
       "      <td>C++ Programming, Data Science, Machine Learnin...</td>\n",
       "      <td>Yes, I am available for 3 months starting imme...</td>\n",
       "      <td>B.Tech</td>\n",
       "      <td>Computer Science</td>\n",
       "      <td>2023</td>\n",
       "    </tr>\n",
       "    <tr>\n",
       "      <th>...</th>\n",
       "      <td>...</td>\n",
       "      <td>...</td>\n",
       "      <td>...</td>\n",
       "      <td>...</td>\n",
       "      <td>...</td>\n",
       "      <td>...</td>\n",
       "      <td>...</td>\n",
       "      <td>...</td>\n",
       "      <td>...</td>\n",
       "    </tr>\n",
       "    <tr>\n",
       "      <th>1131</th>\n",
       "      <td>2</td>\n",
       "      <td>2</td>\n",
       "      <td>0</td>\n",
       "      <td>2</td>\n",
       "      <td>Data Analytics, Amazon Web Services (AWS), Dat...</td>\n",
       "      <td>Yes, I am available for 3 months starting imme...</td>\n",
       "      <td>B.Tech</td>\n",
       "      <td>Mechanical Engineering</td>\n",
       "      <td>2021</td>\n",
       "    </tr>\n",
       "    <tr>\n",
       "      <th>1132</th>\n",
       "      <td>3</td>\n",
       "      <td>3</td>\n",
       "      <td>2</td>\n",
       "      <td>3</td>\n",
       "      <td>Deep Learning, Docker, HTML, MS-Office, Machin...</td>\n",
       "      <td>Yes, I am available for 3 months starting imme...</td>\n",
       "      <td>B.Tech</td>\n",
       "      <td>Computer Science &amp; Engineering</td>\n",
       "      <td>2024</td>\n",
       "    </tr>\n",
       "    <tr>\n",
       "      <th>1133</th>\n",
       "      <td>3</td>\n",
       "      <td>1</td>\n",
       "      <td>3</td>\n",
       "      <td>3</td>\n",
       "      <td>Data Science, Deep Learning, English Proficien...</td>\n",
       "      <td>Yes, I am available for 3 months starting imme...</td>\n",
       "      <td>B.Tech</td>\n",
       "      <td>Electronics and Communication</td>\n",
       "      <td>2025</td>\n",
       "    </tr>\n",
       "    <tr>\n",
       "      <th>1134</th>\n",
       "      <td>2</td>\n",
       "      <td>1</td>\n",
       "      <td>0</td>\n",
       "      <td>0</td>\n",
       "      <td>Python, Data Analytics, MS-Excel, Machine Lear...</td>\n",
       "      <td>Yes, I am available for 3 months starting imme...</td>\n",
       "      <td>B.Tech</td>\n",
       "      <td>Computer Science</td>\n",
       "      <td>2024</td>\n",
       "    </tr>\n",
       "    <tr>\n",
       "      <th>1135</th>\n",
       "      <td>2</td>\n",
       "      <td>0</td>\n",
       "      <td>0</td>\n",
       "      <td>0</td>\n",
       "      <td>C++ Programming, Database Management System (D...</td>\n",
       "      <td>Yes, I am available for 3 months starting imme...</td>\n",
       "      <td>B.Tech</td>\n",
       "      <td>Engineering</td>\n",
       "      <td>2024</td>\n",
       "    </tr>\n",
       "  </tbody>\n",
       "</table>\n",
       "<p>1136 rows × 9 columns</p>\n",
       "</div>"
      ],
      "text/plain": [
       "      Python (out of 3)  Machine Learning (out of 3)  \\\n",
       "0                     1                            0   \n",
       "1                     2                            0   \n",
       "2                     2                            2   \n",
       "3                     3                            2   \n",
       "4                     2                            2   \n",
       "...                 ...                          ...   \n",
       "1131                  2                            2   \n",
       "1132                  3                            3   \n",
       "1133                  3                            1   \n",
       "1134                  2                            1   \n",
       "1135                  2                            0   \n",
       "\n",
       "      Natural Language Processing (NLP) (out of 3)  Deep Learning (out of 3)  \\\n",
       "0                                                0                         1   \n",
       "1                                                0                         0   \n",
       "2                                                0                         0   \n",
       "3                                                2                         0   \n",
       "4                                                0                         0   \n",
       "...                                            ...                       ...   \n",
       "1131                                             0                         2   \n",
       "1132                                             2                         3   \n",
       "1133                                             3                         3   \n",
       "1134                                             0                         0   \n",
       "1135                                             0                         0   \n",
       "\n",
       "                                           Other skills  \\\n",
       "0     MS-Excel, MS-Word, Deep Learning, MySQL, Pytho...   \n",
       "1     Git, GitHub, Linux, Adobe After Effects, Adobe...   \n",
       "2     Amazon Web Services (AWS), Docker, Hadoop, MS-...   \n",
       "3     Adobe XD, BIG DATA ANALYTICS, Canva, Data Anal...   \n",
       "4     C++ Programming, Data Science, Machine Learnin...   \n",
       "...                                                 ...   \n",
       "1131  Data Analytics, Amazon Web Services (AWS), Dat...   \n",
       "1132  Deep Learning, Docker, HTML, MS-Office, Machin...   \n",
       "1133  Data Science, Deep Learning, English Proficien...   \n",
       "1134  Python, Data Analytics, MS-Excel, Machine Lear...   \n",
       "1135  C++ Programming, Database Management System (D...   \n",
       "\n",
       "     Are you available for 3 months, starting immediately, for a full-time work from home internship?   \\\n",
       "0     Yes, I am available for 3 months starting imme...                                                  \n",
       "1     Yes, I am available for 3 months starting imme...                                                  \n",
       "2     Yes, I am available for 3 months starting imme...                                                  \n",
       "3     Yes, I am available for 3 months starting imme...                                                  \n",
       "4     Yes, I am available for 3 months starting imme...                                                  \n",
       "...                                                 ...                                                  \n",
       "1131  Yes, I am available for 3 months starting imme...                                                  \n",
       "1132  Yes, I am available for 3 months starting imme...                                                  \n",
       "1133  Yes, I am available for 3 months starting imme...                                                  \n",
       "1134  Yes, I am available for 3 months starting imme...                                                  \n",
       "1135  Yes, I am available for 3 months starting imme...                                                  \n",
       "\n",
       "                             Degree                          Stream  \\\n",
       "0     Bachelor of Vocation (B.Voc.)            Software Engineering   \n",
       "1                            B.Tech  Computer Science & Engineering   \n",
       "2          Master of Science (M.S.)      Data Science And Analytics   \n",
       "3     Bachelor of Engineering (B.E)                             NaN   \n",
       "4                            B.Tech                Computer Science   \n",
       "...                             ...                             ...   \n",
       "1131                         B.Tech          Mechanical Engineering   \n",
       "1132                         B.Tech  Computer Science & Engineering   \n",
       "1133                         B.Tech   Electronics and Communication   \n",
       "1134                         B.Tech                Computer Science   \n",
       "1135                         B.Tech                     Engineering   \n",
       "\n",
       "      Current Year Of Graduation  \n",
       "0                           2021  \n",
       "1                           2024  \n",
       "2                           2022  \n",
       "3                           2024  \n",
       "4                           2023  \n",
       "...                          ...  \n",
       "1131                        2021  \n",
       "1132                        2024  \n",
       "1133                        2025  \n",
       "1134                        2024  \n",
       "1135                        2024  \n",
       "\n",
       "[1136 rows x 9 columns]"
      ]
     },
     "execution_count": 5,
     "metadata": {},
     "output_type": "execute_result"
    }
   ],
   "source": [
    "# dropping the columns having null values > 50%\n",
    "df=df.drop(cols,axis=1)\n",
    "df"
   ]
  },
  {
   "cell_type": "code",
   "execution_count": 6,
   "id": "a3a6a152",
   "metadata": {},
   "outputs": [
    {
     "data": {
      "text/plain": [
       "Stream                                                                                               14.964789\n",
       "Other skills                                                                                          5.809859\n",
       "Degree                                                                                                3.785211\n",
       "Python (out of 3)                                                                                     0.000000\n",
       "Machine Learning (out of 3)                                                                           0.000000\n",
       "Natural Language Processing (NLP) (out of 3)                                                          0.000000\n",
       "Deep Learning (out of 3)                                                                              0.000000\n",
       "Are you available for 3 months, starting immediately, for a full-time work from home internship?      0.000000\n",
       "Current Year Of Graduation                                                                            0.000000\n",
       "dtype: float64"
      ]
     },
     "execution_count": 6,
     "metadata": {},
     "output_type": "execute_result"
    }
   ],
   "source": [
    "100*df.isnull().mean().sort_values(ascending = False)"
   ]
  },
  {
   "cell_type": "markdown",
   "id": "aae98997",
   "metadata": {},
   "source": [
    "#### Since 'Stream', 'Other Skills' & 'Degree' colums are subjective to candidate, imputing with mode value(as they are categorical columns) may not help in our analysis  "
   ]
  },
  {
   "cell_type": "code",
   "execution_count": 7,
   "id": "e55a9038",
   "metadata": {},
   "outputs": [
    {
     "data": {
      "text/plain": [
       "Python (out of 3)                                                                                       4\n",
       "Machine Learning (out of 3)                                                                             4\n",
       "Natural Language Processing (NLP) (out of 3)                                                            4\n",
       "Deep Learning (out of 3)                                                                                4\n",
       "Other skills                                                                                         1057\n",
       "Are you available for 3 months, starting immediately, for a full-time work from home internship?       25\n",
       "Degree                                                                                                 91\n",
       "Stream                                                                                                186\n",
       "Current Year Of Graduation                                                                             22\n",
       "dtype: int64"
      ]
     },
     "execution_count": 7,
     "metadata": {},
     "output_type": "execute_result"
    }
   ],
   "source": [
    "df.nunique()"
   ]
  },
  {
   "cell_type": "code",
   "execution_count": 8,
   "id": "f6293570",
   "metadata": {},
   "outputs": [
    {
     "data": {
      "text/plain": [
       "1.79"
      ]
     },
     "execution_count": 8,
     "metadata": {},
     "output_type": "execute_result"
    }
   ],
   "source": [
    "#Checking the average of 'Python (out of 3)' column of the applied candidates\n",
    "python_mean=round(np.mean(df['Python (out of 3)']),2)\n",
    "python_mean"
   ]
  },
  {
   "cell_type": "code",
   "execution_count": 9,
   "id": "1f534952",
   "metadata": {},
   "outputs": [
    {
     "data": {
      "text/plain": [
       "1.3"
      ]
     },
     "execution_count": 9,
     "metadata": {},
     "output_type": "execute_result"
    }
   ],
   "source": [
    "#Checking the average of 'Machine Learning (out of 3)' column of the applied candidates\n",
    "ML_mean=round(np.mean(df['Machine Learning (out of 3)']),2)\n",
    "ML_mean"
   ]
  },
  {
   "cell_type": "code",
   "execution_count": 10,
   "id": "66c74c9a",
   "metadata": {},
   "outputs": [
    {
     "data": {
      "text/plain": [
       "0.5"
      ]
     },
     "execution_count": 10,
     "metadata": {},
     "output_type": "execute_result"
    }
   ],
   "source": [
    "#Checking the average of 'Natural Language Processing (NLP) (out of 3)' column of the applied candidates\n",
    "NLP_mean=round(np.mean(df['Natural Language Processing (NLP) (out of 3)']),2)\n",
    "NLP_mean"
   ]
  },
  {
   "cell_type": "code",
   "execution_count": 11,
   "id": "ee4210fa",
   "metadata": {},
   "outputs": [
    {
     "data": {
      "text/plain": [
       "0.66"
      ]
     },
     "execution_count": 11,
     "metadata": {},
     "output_type": "execute_result"
    }
   ],
   "source": [
    "#Checking the average of 'Deep Learning (out of 3)' column of the applied candidates\n",
    "DL_mean=round(np.mean(df['Deep Learning (out of 3)']),2)\n",
    "DL_mean"
   ]
  },
  {
   "cell_type": "code",
   "execution_count": 12,
   "id": "cda196fd",
   "metadata": {},
   "outputs": [
    {
     "data": {
      "text/plain": [
       "590"
      ]
     },
     "execution_count": 12,
     "metadata": {},
     "output_type": "execute_result"
    }
   ],
   "source": [
    "# number of candidates having skills >=2 in ML\n",
    "np.sum((df['Machine Learning (out of 3)']>=2))"
   ]
  },
  {
   "cell_type": "code",
   "execution_count": 13,
   "id": "12b82906",
   "metadata": {},
   "outputs": [
    {
     "data": {
      "text/plain": [
       "51.93661971830986"
      ]
     },
     "execution_count": 13,
     "metadata": {},
     "output_type": "execute_result"
    }
   ],
   "source": [
    "# percentage of candidates having skills >=2 in ML\n",
    "590/1136 *100"
   ]
  },
  {
   "cell_type": "code",
   "execution_count": 14,
   "id": "4b815e7b",
   "metadata": {},
   "outputs": [
    {
     "data": {
      "image/png": "[encoded data removed]",
      "text/plain": [
       "<Figure size 864x576 with 4 Axes>"
      ]
     },
     "metadata": {
      "needs_background": "light"
     },
     "output_type": "display_data"
    }
   ],
   "source": [
    "plt.figure(figsize=(12,8))\n",
    "plt.subplot(2,2,1)\n",
    "sns.countplot(df['Python (out of 3)'])\n",
    "plt.subplot(2,2,2)\n",
    "sns.countplot(df['Machine Learning (out of 3)'])\n",
    "plt.subplot(2,2,3)\n",
    "sns.countplot(df['Natural Language Processing (NLP) (out of 3)'])\n",
    "plt.subplot(2,2,4)\n",
    "sns.countplot(df['Deep Learning (out of 3)'])\n",
    "plt.show()"
   ]
  },
  {
   "cell_type": "markdown",
   "id": "4a3eaee9",
   "metadata": {},
   "source": [
    "* Majority of the candidates have skills >=2 in Python\n",
    "* Only around half of the Candidates(52%) have skills >=2 in Machine Learning\n",
    "* Majority of the candidates have no skills in NLP & DL"
   ]
  },
  {
   "cell_type": "code",
   "execution_count": 15,
   "id": "43cab051",
   "metadata": {
    "scrolled": true
   },
   "outputs": [
    {
     "data": {
      "text/html": [
       "<div>\n",
       "<style scoped>\n",
       "    .dataframe tbody tr th:only-of-type {\n",
       "        vertical-align: middle;\n",
       "    }\n",
       "\n",
       "    .dataframe tbody tr th {\n",
       "        vertical-align: top;\n",
       "    }\n",
       "\n",
       "    .dataframe thead th {\n",
       "        text-align: right;\n",
       "    }\n",
       "</style>\n",
       "<table border=\"1\" class=\"dataframe\">\n",
       "  <thead>\n",
       "    <tr style=\"text-align: right;\">\n",
       "      <th></th>\n",
       "      <th>Python (out of 3)</th>\n",
       "      <th>Machine Learning (out of 3)</th>\n",
       "      <th>Natural Language Processing (NLP) (out of 3)</th>\n",
       "      <th>Deep Learning (out of 3)</th>\n",
       "      <th>Other skills</th>\n",
       "      <th>Are you available for 3 months, starting immediately, for a full-time work from home internship?</th>\n",
       "      <th>Degree</th>\n",
       "      <th>Stream</th>\n",
       "      <th>Current Year Of Graduation</th>\n",
       "    </tr>\n",
       "  </thead>\n",
       "  <tbody>\n",
       "    <tr>\n",
       "      <th>15</th>\n",
       "      <td>2</td>\n",
       "      <td>2</td>\n",
       "      <td>1</td>\n",
       "      <td>2</td>\n",
       "      <td>Database Management System (DBMS), English Pro...</td>\n",
       "      <td>Yes, I am available for 3 months starting imme...</td>\n",
       "      <td>Bachelor of Technology (B.Tech)</td>\n",
       "      <td>Computer Science &amp; Engineering</td>\n",
       "      <td>2024</td>\n",
       "    </tr>\n",
       "    <tr>\n",
       "      <th>20</th>\n",
       "      <td>3</td>\n",
       "      <td>3</td>\n",
       "      <td>3</td>\n",
       "      <td>3</td>\n",
       "      <td>Data Analytics, Deep Learning, Flask, Image Pr...</td>\n",
       "      <td>Yes, I am available for 3 months starting imme...</td>\n",
       "      <td>Post Graduate Diploma in Management (P.G.D.M.)</td>\n",
       "      <td>Data Science And Business Analytics</td>\n",
       "      <td>2022</td>\n",
       "    </tr>\n",
       "    <tr>\n",
       "      <th>23</th>\n",
       "      <td>2</td>\n",
       "      <td>2</td>\n",
       "      <td>2</td>\n",
       "      <td>1</td>\n",
       "      <td>C++ Programming, Chemistry, English Proficienc...</td>\n",
       "      <td>Yes, I am available for 3 months starting imme...</td>\n",
       "      <td>B.Tech (Hons.)</td>\n",
       "      <td>Computer Science</td>\n",
       "      <td>2023</td>\n",
       "    </tr>\n",
       "    <tr>\n",
       "      <th>29</th>\n",
       "      <td>2</td>\n",
       "      <td>2</td>\n",
       "      <td>1</td>\n",
       "      <td>1</td>\n",
       "      <td>Cloud Computing, Amazon Web Services (AWS), C ...</td>\n",
       "      <td>Yes, I am available for 3 months starting imme...</td>\n",
       "      <td>Master of Computer Applications (MCA)</td>\n",
       "      <td>Networks And Communication</td>\n",
       "      <td>2023</td>\n",
       "    </tr>\n",
       "    <tr>\n",
       "      <th>34</th>\n",
       "      <td>3</td>\n",
       "      <td>2</td>\n",
       "      <td>2</td>\n",
       "      <td>2</td>\n",
       "      <td>Data Science, Database Management System (DBMS...</td>\n",
       "      <td>Yes, I am available for 3 months starting imme...</td>\n",
       "      <td>Integrated M.Sc.</td>\n",
       "      <td>Data Science</td>\n",
       "      <td>2024</td>\n",
       "    </tr>\n",
       "  </tbody>\n",
       "</table>\n",
       "</div>"
      ],
      "text/plain": [
       "    Python (out of 3)  Machine Learning (out of 3)  \\\n",
       "15                  2                            2   \n",
       "20                  3                            3   \n",
       "23                  2                            2   \n",
       "29                  2                            2   \n",
       "34                  3                            2   \n",
       "\n",
       "    Natural Language Processing (NLP) (out of 3)  Deep Learning (out of 3)  \\\n",
       "15                                             1                         2   \n",
       "20                                             3                         3   \n",
       "23                                             2                         1   \n",
       "29                                             1                         1   \n",
       "34                                             2                         2   \n",
       "\n",
       "                                         Other skills  \\\n",
       "15  Database Management System (DBMS), English Pro...   \n",
       "20  Data Analytics, Deep Learning, Flask, Image Pr...   \n",
       "23  C++ Programming, Chemistry, English Proficienc...   \n",
       "29  Cloud Computing, Amazon Web Services (AWS), C ...   \n",
       "34  Data Science, Database Management System (DBMS...   \n",
       "\n",
       "   Are you available for 3 months, starting immediately, for a full-time work from home internship?   \\\n",
       "15  Yes, I am available for 3 months starting imme...                                                  \n",
       "20  Yes, I am available for 3 months starting imme...                                                  \n",
       "23  Yes, I am available for 3 months starting imme...                                                  \n",
       "29  Yes, I am available for 3 months starting imme...                                                  \n",
       "34  Yes, I am available for 3 months starting imme...                                                  \n",
       "\n",
       "                                            Degree  \\\n",
       "15                 Bachelor of Technology (B.Tech)   \n",
       "20  Post Graduate Diploma in Management (P.G.D.M.)   \n",
       "23                                  B.Tech (Hons.)   \n",
       "29           Master of Computer Applications (MCA)   \n",
       "34                                Integrated M.Sc.   \n",
       "\n",
       "                                 Stream  Current Year Of Graduation  \n",
       "15       Computer Science & Engineering                        2024  \n",
       "20  Data Science And Business Analytics                        2022  \n",
       "23                     Computer Science                        2023  \n",
       "29           Networks And Communication                        2023  \n",
       "34                         Data Science                        2024  "
      ]
     },
     "execution_count": 15,
     "metadata": {},
     "output_type": "execute_result"
    }
   ],
   "source": [
    "#Filtering the rows/candidates who have skills below the average of all other applied cadidates\n",
    "filtered_df=df[(df['Python (out of 3)']>python_mean)&(df['Machine Learning (out of 3)']>ML_mean)&(df['Natural Language Processing (NLP) (out of 3)']>NLP_mean)&(df['Deep Learning (out of 3)']>DL_mean)]\n",
    "filtered_df.head()"
   ]
  },
  {
   "cell_type": "code",
   "execution_count": 16,
   "id": "502b58ae",
   "metadata": {},
   "outputs": [],
   "source": [
    "#Filtering the candidates who aren't available for complete 3 months\n",
    "filtered_df=filtered_df[(filtered_df['Are you available for 3 months, starting immediately, for a full-time work from home internship? '] == 'Yes, I am available for 3 months starting immediately for a full-time internship.')]"
   ]
  },
  {
   "cell_type": "code",
   "execution_count": 17,
   "id": "bda35b21",
   "metadata": {},
   "outputs": [
    {
     "data": {
      "text/plain": [
       "(200, 9)"
      ]
     },
     "execution_count": 17,
     "metadata": {},
     "output_type": "execute_result"
    }
   ],
   "source": [
    "filtered_df.shape"
   ]
  },
  {
   "cell_type": "code",
   "execution_count": 18,
   "id": "bc876c3e",
   "metadata": {},
   "outputs": [
    {
     "data": {
      "text/plain": [
       "Python (out of 3)                                                                                      2\n",
       "Machine Learning (out of 3)                                                                            2\n",
       "Natural Language Processing (NLP) (out of 3)                                                           3\n",
       "Deep Learning (out of 3)                                                                               3\n",
       "Other skills                                                                                         200\n",
       "Are you available for 3 months, starting immediately, for a full-time work from home internship?       1\n",
       "Degree                                                                                                37\n",
       "Stream                                                                                                53\n",
       "Current Year Of Graduation                                                                            13\n",
       "dtype: int64"
      ]
     },
     "execution_count": 18,
     "metadata": {},
     "output_type": "execute_result"
    }
   ],
   "source": [
    "filtered_df.nunique()"
   ]
  },
  {
   "cell_type": "code",
   "execution_count": 19,
   "id": "11ad25ca",
   "metadata": {},
   "outputs": [],
   "source": [
    "# Saved the filtred candidates in an different excel sheet called \"Filtered_Candidates.xlsx\"\n",
    "filtered_df.to_excel(\"Filtered_Candidates.xlsx\")"
   ]
  },
  {
   "cell_type": "markdown",
   "id": "7b0d413d",
   "metadata": {},
   "source": [
    "# Conclusion & Recommendations"
   ]
  },
  {
   "cell_type": "markdown",
   "id": "1cab8e8f",
   "metadata": {},
   "source": [
    "* Majority of the candidates have skills >=2 in Python\n",
    "* Only around half of the Candidates(52%) have skills >=2 in Machine Learning\n",
    "* Majority of the candidates have no skills in NLP & DL\n",
    "* Candidates can be further filtered if there is any particular Degree/Stream is necessary\n",
    "* Data on Percentage in UG,PG,10,12 is not collected in the right format. If collected, would have further helped in the analysis\n",
    "* Dropdowns of fixed Degree/Stream has to be provided for proper collection of data\n",
    "* The strength of 'Other Skills' can only be judged in techincal round or through any task\n"
   ]
  },
  {
   "cell_type": "code",
   "execution_count": null,
   "id": "669911e8",
   "metadata": {},
   "outputs": [],
   "source": []
  }
 ],
 "metadata": {
  "kernelspec": {
   "display_name": "Python 3 (ipykernel)",
   "language": "python",
   "name": "python3"
  },
  "language_info": {
   "codemirror_mode": {
    "name": "ipython",
    "version": 3
   },
   "file_extension": ".py",
   "mimetype": "text/x-python",
   "name": "python",
   "nbconvert_exporter": "python",
   "pygments_lexer": "ipython3",
   "version": "3.9.12"
  }
 },
 "nbformat": 4,
 "nbformat_minor": 5
}
